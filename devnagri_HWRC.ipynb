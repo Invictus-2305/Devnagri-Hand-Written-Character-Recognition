{
 "cells": [
  {
   "cell_type": "code",
   "execution_count": 1,
   "metadata": {},
   "outputs": [
    {
     "name": "stderr",
     "output_type": "stream",
     "text": [
      "2024-08-27 12:26:34.515035: I tensorflow/core/platform/cpu_feature_guard.cc:182] This TensorFlow binary is optimized to use available CPU instructions in performance-critical operations.\n",
      "To enable the following instructions: AVX2 FMA, in other operations, rebuild TensorFlow with the appropriate compiler flags.\n"
     ]
    }
   ],
   "source": [
    "import tensorflow as tf\n",
    "from tensorflow.keras.preprocessing.image import ImageDataGenerator\n",
    "from tensorflow.keras import layers, models\n",
    "import os"
   ]
  },
  {
   "cell_type": "code",
   "execution_count": 2,
   "metadata": {},
   "outputs": [],
   "source": [
    "image_size = (32, 32)\n",
    "batch_size = 32\n",
    "num_classes = 46\n",
    "\n",
    "train_data_dir = './n_dataset/Train'\n",
    "test_data_dir = './n_dataset/Test'"
   ]
  },
  {
   "cell_type": "code",
   "execution_count": 3,
   "metadata": {},
   "outputs": [
    {
     "name": "stdout",
     "output_type": "stream",
     "text": [
      "Found 62560 images belonging to 46 classes.\n",
      "Found 15640 images belonging to 46 classes.\n"
     ]
    }
   ],
   "source": [
    "train_datagen = ImageDataGenerator(\n",
    "    rescale=1.0/255,\n",
    "    validation_split=0.2\n",
    ")\n",
    "\n",
    "train_generator = train_datagen.flow_from_directory(\n",
    "    train_data_dir,\n",
    "    target_size=image_size,\n",
    "    batch_size=batch_size,\n",
    "    class_mode='categorical',\n",
    "    subset='training'\n",
    ")\n",
    "\n",
    "validation_generator = train_datagen.flow_from_directory(\n",
    "    train_data_dir,\n",
    "    target_size=image_size,\n",
    "    batch_size=batch_size,\n",
    "    class_mode='categorical',\n",
    "    subset='validation'\n",
    ")\n"
   ]
  },
  {
   "cell_type": "code",
   "execution_count": 4,
   "metadata": {},
   "outputs": [],
   "source": [
    "model = models.Sequential([\n",
    "    layers.Conv2D(32, (3, 3), activation='relu', input_shape=(32, 32, 3)),\n",
    "    layers.MaxPooling2D((2, 2)),\n",
    "    layers.Conv2D(64, (3, 3), activation='relu'),\n",
    "    layers.MaxPooling2D((2, 2)),\n",
    "    layers.Conv2D(128, (3, 3), activation='relu'),\n",
    "    layers.MaxPooling2D((2, 2)),\n",
    "    layers.Flatten(),\n",
    "    layers.Dense(128, activation='relu'),\n",
    "    layers.Dropout(0.5),\n",
    "    layers.Dense(num_classes, activation='softmax')\n",
    "])"
   ]
  },
  {
   "cell_type": "code",
   "execution_count": 5,
   "metadata": {},
   "outputs": [],
   "source": [
    "model.compile(optimizer='adam',\n",
    "              loss='categorical_crossentropy',\n",
    "              metrics=['accuracy'])"
   ]
  },
  {
   "cell_type": "code",
   "execution_count": 6,
   "metadata": {},
   "outputs": [
    {
     "name": "stdout",
     "output_type": "stream",
     "text": [
      "Epoch 1/20\n",
      "1955/1955 [==============================] - 114s 57ms/step - loss: 0.9859 - accuracy: 0.7184 - val_loss: 0.4714 - val_accuracy: 0.8538\n",
      "Epoch 2/20\n",
      "1955/1955 [==============================] - 96s 49ms/step - loss: 0.2954 - accuracy: 0.9108 - val_loss: 0.3910 - val_accuracy: 0.8864\n",
      "Epoch 3/20\n",
      "1955/1955 [==============================] - 83s 42ms/step - loss: 0.1944 - accuracy: 0.9416 - val_loss: 0.4126 - val_accuracy: 0.8865\n",
      "Epoch 4/20\n",
      "1955/1955 [==============================] - 62s 32ms/step - loss: 0.1516 - accuracy: 0.9541 - val_loss: 0.3170 - val_accuracy: 0.9118\n",
      "Epoch 5/20\n",
      "1955/1955 [==============================] - 79s 40ms/step - loss: 0.1205 - accuracy: 0.9623 - val_loss: 0.3249 - val_accuracy: 0.9079\n",
      "Epoch 6/20\n",
      "1955/1955 [==============================] - 59s 30ms/step - loss: 0.1036 - accuracy: 0.9677 - val_loss: 0.3642 - val_accuracy: 0.9023\n",
      "Epoch 7/20\n",
      "1955/1955 [==============================] - 58s 30ms/step - loss: 0.0874 - accuracy: 0.9719 - val_loss: 0.4064 - val_accuracy: 0.9064\n",
      "Epoch 8/20\n",
      "1955/1955 [==============================] - 64s 33ms/step - loss: 0.0745 - accuracy: 0.9760 - val_loss: 0.3870 - val_accuracy: 0.9116\n",
      "Epoch 9/20\n",
      "1955/1955 [==============================] - 59s 30ms/step - loss: 0.0706 - accuracy: 0.9781 - val_loss: 0.3334 - val_accuracy: 0.9222\n",
      "Epoch 10/20\n",
      "1955/1955 [==============================] - 58s 30ms/step - loss: 0.0613 - accuracy: 0.9811 - val_loss: 0.3743 - val_accuracy: 0.9193\n",
      "Epoch 11/20\n",
      "1955/1955 [==============================] - 62s 32ms/step - loss: 0.0588 - accuracy: 0.9816 - val_loss: 0.3639 - val_accuracy: 0.9182\n",
      "Epoch 12/20\n",
      "1955/1955 [==============================] - 60s 31ms/step - loss: 0.0549 - accuracy: 0.9831 - val_loss: 0.3424 - val_accuracy: 0.9197\n",
      "Epoch 13/20\n",
      "1955/1955 [==============================] - 60s 31ms/step - loss: 0.0506 - accuracy: 0.9847 - val_loss: 0.3994 - val_accuracy: 0.9157\n",
      "Epoch 14/20\n",
      "1955/1955 [==============================] - 70s 36ms/step - loss: 0.0501 - accuracy: 0.9840 - val_loss: 0.3967 - val_accuracy: 0.9158\n",
      "Epoch 15/20\n",
      "1955/1955 [==============================] - 62s 32ms/step - loss: 0.0459 - accuracy: 0.9853 - val_loss: 0.4066 - val_accuracy: 0.9166\n",
      "Epoch 16/20\n",
      "1955/1955 [==============================] - 67s 34ms/step - loss: 0.0429 - accuracy: 0.9865 - val_loss: 0.4473 - val_accuracy: 0.9150\n",
      "Epoch 17/20\n",
      "1955/1955 [==============================] - 62s 32ms/step - loss: 0.0424 - accuracy: 0.9864 - val_loss: 0.3908 - val_accuracy: 0.9212\n",
      "Epoch 18/20\n",
      "1955/1955 [==============================] - 77s 40ms/step - loss: 0.0383 - accuracy: 0.9876 - val_loss: 0.4526 - val_accuracy: 0.9198\n",
      "Epoch 19/20\n",
      "1955/1955 [==============================] - 64s 33ms/step - loss: 0.0402 - accuracy: 0.9874 - val_loss: 0.4281 - val_accuracy: 0.9155\n",
      "Epoch 20/20\n",
      "1955/1955 [==============================] - 60s 31ms/step - loss: 0.0353 - accuracy: 0.9885 - val_loss: 0.5180 - val_accuracy: 0.9067\n"
     ]
    },
    {
     "data": {
      "text/plain": [
       "<keras.src.callbacks.History at 0x170f72390>"
      ]
     },
     "execution_count": 6,
     "metadata": {},
     "output_type": "execute_result"
    }
   ],
   "source": [
    "model.fit(\n",
    "    train_generator,\n",
    "    steps_per_epoch=train_generator.samples // batch_size,\n",
    "    validation_data=validation_generator,\n",
    "    validation_steps=validation_generator.samples // batch_size,\n",
    "    epochs=20\n",
    ")\n"
   ]
  },
  {
   "cell_type": "code",
   "execution_count": 7,
   "metadata": {},
   "outputs": [
    {
     "name": "stderr",
     "output_type": "stream",
     "text": [
      "/Users/samarthgayakhe/anaconda3/lib/python3.11/site-packages/keras/src/engine/training.py:3079: UserWarning: You are saving your model as an HDF5 file via `model.save()`. This file format is considered legacy. We recommend using instead the native Keras format, e.g. `model.save('my_model.keras')`.\n",
      "  saving_api.save_model(\n"
     ]
    }
   ],
   "source": [
    "model.save('devanagari_HWRC.h5')"
   ]
  },
  {
   "cell_type": "code",
   "execution_count": 14,
   "metadata": {},
   "outputs": [
    {
     "name": "stdout",
     "output_type": "stream",
     "text": [
      "Found 13800 images belonging to 46 classes.\n"
     ]
    }
   ],
   "source": [
    "test_datagen = ImageDataGenerator(rescale=1.0/255)\n",
    "\n",
    "test_generator = test_datagen.flow_from_directory(\n",
    "    test_data_dir,\n",
    "    target_size=(32, 32),\n",
    "    batch_size=batch_size,\n",
    "    class_mode='categorical',\n",
    "    shuffle=False  # Important to keep the order of images as in the folders\n",
    ")\n"
   ]
  },
  {
   "cell_type": "code",
   "execution_count": 15,
   "metadata": {},
   "outputs": [
    {
     "name": "stdout",
     "output_type": "stream",
     "text": [
      "432/432 [==============================] - 7s 16ms/step - loss: 0.1618 - accuracy: 0.9680\n",
      "Test accuracy: 96.80%\n"
     ]
    }
   ],
   "source": [
    "test_loss, test_accuracy = model.evaluate(test_generator)\n",
    "print(f'Test accuracy: {test_accuracy * 100:.2f}%')"
   ]
  },
  {
   "cell_type": "code",
   "execution_count": 16,
   "metadata": {},
   "outputs": [],
   "source": [
    "from sklearn.metrics import roc_curve, auc\n",
    "from sklearn.preprocessing import label_binarize\n",
    "import matplotlib.pyplot as plt\n",
    "import numpy as np\n",
    "from itertools import cycle"
   ]
  },
  {
   "cell_type": "code",
   "execution_count": 17,
   "metadata": {},
   "outputs": [],
   "source": [
    "class_labels = [str(i) for i in range(46)]"
   ]
  },
  {
   "cell_type": "code",
   "execution_count": 18,
   "metadata": {},
   "outputs": [
    {
     "name": "stdout",
     "output_type": "stream",
     "text": [
      "432/432 [==============================] - 12s 28ms/step\n"
     ]
    }
   ],
   "source": [
    "true_classes = test_generator.classes\n",
    "num_classes = len(class_labels)\n",
    "\n",
    "# Binarize the labels for each class\n",
    "y_test = label_binarize(true_classes, classes=range(num_classes))\n",
    "y_score = model.predict(test_generator)"
   ]
  },
  {
   "cell_type": "code",
   "execution_count": 19,
   "metadata": {},
   "outputs": [],
   "source": [
    "fpr = dict()  # False Positive Rate\n",
    "tpr = dict()  # True Positive Rate\n",
    "roc_auc = dict()  # Area Under Curve (AUC)\n",
    "\n",
    "for i in range(num_classes):\n",
    "    fpr[i], tpr[i], _ = roc_curve(y_test[:, i], y_score[:, i])\n",
    "    roc_auc[i] = auc(fpr[i], tpr[i])"
   ]
  },
  {
   "cell_type": "code",
   "execution_count": 43,
   "metadata": {},
   "outputs": [
    {
     "name": "stderr",
     "output_type": "stream",
     "text": [
      "No artists with labels found to put in legend.  Note that artists whose label start with an underscore are ignored when legend() is called with no argument.\n"
     ]
    },
    {
     "data": {
      "image/png": "[encoded data removed]",
      "text/plain": [
       "<Figure size 1000x800 with 1 Axes>"
      ]
     },
     "metadata": {},
     "output_type": "display_data"
    }
   ],
   "source": [
    "plt.figure(figsize=(10, 8))\n",
    "colors = cycle(['aqua', 'darkorange', 'cornflowerblue', 'green', 'red'])\n",
    "\n",
    "for i, color in zip(range(num_classes), colors):\n",
    "    plt.plot(fpr[i], tpr[i], color=color, lw=2)\n",
    "\n",
    "plt.plot([0, 1], [0, 1], 'k--', lw=2)\n",
    "plt.xlim([0.0, 0.3])\n",
    "plt.ylim([0.9, 1.01])\n",
    "plt.xlabel('False Positive Rate')\n",
    "plt.ylabel('True Positive Rate')\n",
    "plt.title('ROC Curve for Devanagari Handwritten Character Recognition')\n",
    "plt.legend(loc=\"lower right\")\n",
    "plt.show()"
   ]
  },
  {
   "cell_type": "code",
   "execution_count": 26,
   "metadata": {},
   "outputs": [],
   "source": [
    "from tensorflow.keras.preprocessing import image\n",
    "import numpy as np"
   ]
  },
  {
   "cell_type": "code",
   "execution_count": 78,
   "metadata": {},
   "outputs": [],
   "source": [
    "devanagari_labels = {\n",
    "    0: '०', 1: '१', 2: '२', 3: '३', 4: '४', 5: '५', 6: '६', 7: '७', 8: '८', 9: '९', \n",
    "    10: 'क', 11: 'ख', 12: 'ग', 13: 'घ', 14: 'ङ', 15: 'च', 16: 'छ', 17: 'ज', 18: 'झ', 19: 'ञ',\n",
    "    20: 'ट', 21: 'ठ', 22: 'ड', 23: 'ढ', 24: 'ण', 25: 'त', 26: 'थ', 27: 'द', 28: 'ध', 29: 'न',\n",
    "    30: 'प', 31: 'फ', 32: 'ब', 33: 'भ', 34: 'म', 35: 'य', 36: 'र', 37: 'ल', 38: 'व', 39: 'श',\n",
    "    40: 'ष', 41: 'स', 42: 'ह', 43: 'क्ष', 44: 'त्र', 45: 'ज्ञ'\n",
    "}\n"
   ]
  },
  {
   "cell_type": "code",
   "execution_count": 86,
   "metadata": {},
   "outputs": [],
   "source": [
    "from PIL import Image\n",
    "import numpy as np\n",
    "from tensorflow.keras.preprocessing import image\n",
    "\n",
    "def resize_and_crop(img_path, target_size):\n",
    "    img = Image.open(img_path)\n",
    "    \n",
    "    # Resizes image while keeping the aspect ratio\n",
    "    img.thumbnail((max(target_size), max(target_size)))\n",
    "    \n",
    "    # Creates a new image with the target size and paste the resized image onto it\n",
    "    new_img = Image.new('RGB', target_size, (255, 255, 255))\n",
    "    new_img.paste(img, ((target_size[0] - img.width) // 2, (target_size[1] - img.height) // 2))\n",
    "    \n",
    "    return new_img\n",
    "\n",
    "target_size = (32, 32)\n",
    "img = resize_and_crop(\"test3.png\", target_size)\n",
    "# Convert the image to a numpy array\n",
    "img_array = np.array(img)\n",
    "\n",
    "# Expand dimensions to match the expected input shape (batch_size, height, width, channels)\n",
    "img_array = np.expand_dims(img_array, axis=0)\n",
    "\n",
    "# Normalize the image (rescale pixel values between 0 and 1)\n",
    "img_array = img_array / 255.0\n"
   ]
  },
  {
   "cell_type": "code",
   "execution_count": 87,
   "metadata": {},
   "outputs": [
    {
     "name": "stdout",
     "output_type": "stream",
     "text": [
      "1/1 [==============================] - 0s 30ms/step\n",
      "Predicted Devanagari character: ह\n"
     ]
    }
   ],
   "source": [
    "prediction = model.predict(img_array)\n",
    "predicted_class = np.argmax(prediction, axis=1)\n",
    "predicted_label = predicted_class[0]\n",
    "predicted_character = devanagari_labels[int(class_labels[predicted_class[0]])]\n",
    "\n",
    "print(f\"Predicted Devanagari character: {predicted_character}\")\n"
   ]
  },
  {
   "cell_type": "code",
   "execution_count": 73,
   "metadata": {},
   "outputs": [],
   "source": [
    "img.show()"
   ]
  }
 ],
 "metadata": {
  "kernelspec": {
   "display_name": "Python 3",
   "language": "python",
   "name": "python3"
  },
  "language_info": {
   "codemirror_mode": {
    "name": "ipython",
    "version": 3
   },
   "file_extension": ".py",
   "mimetype": "text/x-python",
   "name": "python",
   "nbconvert_exporter": "python",
   "pygments_lexer": "ipython3",
   "version": "3.11.5"
  }
 },
 "nbformat": 4,
 "nbformat_minor": 2
}
